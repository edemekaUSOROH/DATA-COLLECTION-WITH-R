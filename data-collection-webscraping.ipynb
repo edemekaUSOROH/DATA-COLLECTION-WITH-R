{
 "cells": [
  {
   "cell_type": "markdown",
   "metadata": {},
   "source": [
    "<h1>Web scrape a Global Bike-Sharing Systems Wiki Page With R</h1>\n",
    "\n",
    "Estimated time needed: **20** minutes\n"
   ]
  },
  {
   "cell_type": "markdown",
   "metadata": {},
   "source": [
    "## Project Overview:\n",
    "\n",
    "Before getting my hands dirty on the actual data analysis tasks, i first needed to obtain some background and context information about well-known bike sharing systems worldwide, such as their location, launch date, rental bike size, and so on.\n",
    "\n",
    "i got such information from this Wiki page: \n",
    "\n",
    "https://en.wikipedia.org/wiki/List_of_bicycle-sharing_systems\n",
    "\n",
    "<a href=\"https://cognitiveclass.ai/?utm_medium=Exinfluencer&utm_source=Exinfluencer&utm_content=000026UJ&utm_term=10006555&utm_id=NA-SkillsNetwork-Channel-SkillsNetworkCoursesIBMDeveloperSkillsNetworkRP0321ENSkillsNetwork878-2022-01-01\">\n",
    "    <img src=\"https://cf-courses-data.s3.us.cloud-object-storage.appdomain.cloud/IBMDeveloperSkillsNetwork-RP0321EN-SkillsNetwork/labs/module_1/images/l2-list-bike-sharing-systems.png\" width=\"600\" align=\"center\">\n",
    "</a>\n"
   ]
  },
  {
   "cell_type": "markdown",
   "metadata": {},
   "source": [
    "First import necessary libraries for the webscraping task.\n"
   ]
  },
  {
   "cell_type": "markdown",
   "metadata": {},
   "source": [
    "\n",
    "In this lab, you need to use the `rvest` library to obtain the bike sharing systems table from the above web page, convert the table into a data frame, and write the data frame to a csv file for future data wrangling and analysis tasks.\n"
   ]
  },
  {
   "cell_type": "code",
   "execution_count": 1,
   "metadata": {
    "tags": []
   },
   "outputs": [
    {
     "name": "stderr",
     "output_type": "stream",
     "text": [
      "Loading required package: rvest\n",
      "Loading required package: xml2\n"
     ]
    }
   ],
   "source": [
    "# Check if need to install rvest` library\n",
    "require(\"rvest\")\n",
    "\n",
    "library(rvest)"
   ]
  },
  {
   "cell_type": "markdown",
   "metadata": {},
   "source": [
    "# TASK: Extract bike sharing systems HTML table from a Wiki page and convert it into a data frame\n"
   ]
  },
  {
   "cell_type": "markdown",
   "metadata": {},
   "source": [
    "_TODO:_ Get the root HTML node\n"
   ]
  },
  {
   "cell_type": "code",
   "execution_count": 13,
   "metadata": {
    "tags": []
   },
   "outputs": [
    {
     "data": {
      "text/plain": [
       "{html_node}\n",
       "<table class=\"wikitable sortable sticky-header\" style=\"background:#f8f9faff;\">\n",
       "[1] <tbody>\\n<tr>\\n<th>Country</th>\\n<th>City / Region</th>\\n<th>Name</th>\\n< ..."
      ]
     },
     "metadata": {},
     "output_type": "display_data"
    }
   ],
   "source": [
    "table_url <- \"https://en.wikipedia.org/wiki/List_of_bicycle-sharing_systems\"\n",
    "# Get the root HTML node by calling the `read_html()` method with URL\n",
    "root_node <- read_html(table_url)\n",
    "table_nodes <- html_nodes(root_node, \"table\")\n",
    "bike_table <- table_nodes[[1]]\n",
    "bike_table"
   ]
  },
  {
   "cell_type": "markdown",
   "metadata": {},
   "source": [
    "Note that this HTML page at least contains three child `<table>` nodes under the root HTML node. So, you will need to use `html_nodes(root_node, \"table\")` function to get all its child `<table>` nodes:\n",
    "\n",
    "```\n",
    "<html>\n",
    "  <table>(table1)</table>\n",
    "  <table>(table2)</table>\n",
    "  <table>(table3)</table>\n",
    "  ...\n",
    "</html>\n",
    "```\n"
   ]
  },
  {
   "cell_type": "markdown",
   "metadata": {},
   "source": [
    "table_nodes <- html_nodes(root_node, \"table\")\n"
   ]
  },
  {
   "cell_type": "markdown",
   "metadata": {},
   "source": [
    "You can use a `for` loop to print each table, and then you will see that the actual the bike sharing table is the first element `table_nodes[[1]]`.\n"
   ]
  },
  {
   "cell_type": "markdown",
   "metadata": {},
   "source": [
    "Next, you need to convert this HTML table into a data frame using the `html_table()` function. You may choose to include `fill = TRUE` argument to fill any empty table rows/columns.\n"
   ]
  },
  {
   "cell_type": "code",
   "execution_count": 15,
   "metadata": {
    "tags": []
   },
   "outputs": [
    {
     "data": {
      "text/html": [
       "<table>\n",
       "<caption>A data.frame: 6 × 7</caption>\n",
       "<thead>\n",
       "\t<tr><th></th><th scope=col>Country</th><th scope=col>City / Region</th><th scope=col>Name</th><th scope=col>System</th><th scope=col>Operator</th><th scope=col>Launched</th><th scope=col>Discontinued</th></tr>\n",
       "\t<tr><th></th><th scope=col>&lt;chr&gt;</th><th scope=col>&lt;chr&gt;</th><th scope=col>&lt;chr&gt;</th><th scope=col>&lt;chr&gt;</th><th scope=col>&lt;chr&gt;</th><th scope=col>&lt;chr&gt;</th><th scope=col>&lt;chr&gt;</th></tr>\n",
       "</thead>\n",
       "<tbody>\n",
       "\t<tr><th scope=row>1</th><td>Albania  </td><td>Tirana[5]            </td><td>Ecovolis            </td><td>                 </td><td>                            </td><td>March 2011      </td><td>Discontinued        </td></tr>\n",
       "\t<tr><th scope=row>2</th><td>Argentina</td><td>Buenos Aires[6][7]   </td><td>Ecobici             </td><td>Serttel Brasil[8]</td><td>Bike In Baires Consortium[9]</td><td>2010            </td><td>                    </td></tr>\n",
       "\t<tr><th scope=row>3</th><td>Argentina</td><td>Mendoza[10]          </td><td>Metrobici           </td><td>                 </td><td>                            </td><td>2014            </td><td>                    </td></tr>\n",
       "\t<tr><th scope=row>4</th><td>Argentina</td><td>Rosario              </td><td>Mi Bici Tu Bici[11] </td><td>                 </td><td>                            </td><td>2 December 2015 </td><td>                    </td></tr>\n",
       "\t<tr><th scope=row>5</th><td>Argentina</td><td>San Lorenzo, Santa Fe</td><td>Biciudad            </td><td>Biciudad         </td><td>                            </td><td>27 November 2016</td><td>                    </td></tr>\n",
       "\t<tr><th scope=row>6</th><td>Australia</td><td><span style=white-space:pre-wrap>Melbourne[12]        </span></td><td>Melbourne Bike Share</td><td><span style=white-space:pre-wrap>PBSC &amp; 8D        </span></td><td><span style=white-space:pre-wrap>Motivate                    </span></td><td><span style=white-space:pre-wrap>June 2010       </span></td><td>30 November 2019[13]</td></tr>\n",
       "</tbody>\n",
       "</table>\n"
      ],
      "text/latex": [
       "A data.frame: 6 × 7\n",
       "\\begin{tabular}{r|lllllll}\n",
       "  & Country & City / Region & Name & System & Operator & Launched & Discontinued\\\\\n",
       "  & <chr> & <chr> & <chr> & <chr> & <chr> & <chr> & <chr>\\\\\n",
       "\\hline\n",
       "\t1 & Albania   & Tirana{[}5{]}             & Ecovolis             &                   &                              & March 2011       & Discontinued        \\\\\n",
       "\t2 & Argentina & Buenos Aires{[}6{]}{[}7{]}    & Ecobici              & Serttel Brasil{[}8{]} & Bike In Baires Consortium{[}9{]} & 2010             &                     \\\\\n",
       "\t3 & Argentina & Mendoza{[}10{]}           & Metrobici            &                   &                              & 2014             &                     \\\\\n",
       "\t4 & Argentina & Rosario               & Mi Bici Tu Bici{[}11{]}  &                   &                              & 2 December 2015  &                     \\\\\n",
       "\t5 & Argentina & San Lorenzo, Santa Fe & Biciudad             & Biciudad          &                              & 27 November 2016 &                     \\\\\n",
       "\t6 & Australia & Melbourne{[}12{]}         & Melbourne Bike Share & PBSC \\& 8D         & Motivate                     & June 2010        & 30 November 2019{[}13{]}\\\\\n",
       "\\end{tabular}\n"
      ],
      "text/markdown": [
       "\n",
       "A data.frame: 6 × 7\n",
       "\n",
       "| <!--/--> | Country &lt;chr&gt; | City / Region &lt;chr&gt; | Name &lt;chr&gt; | System &lt;chr&gt; | Operator &lt;chr&gt; | Launched &lt;chr&gt; | Discontinued &lt;chr&gt; |\n",
       "|---|---|---|---|---|---|---|---|\n",
       "| 1 | Albania   | Tirana[5]             | Ecovolis             | <!----> | <!----> | March 2011       | Discontinued         |\n",
       "| 2 | Argentina | Buenos Aires[6][7]    | Ecobici              | Serttel Brasil[8] | Bike In Baires Consortium[9] | 2010             | <!----> |\n",
       "| 3 | Argentina | Mendoza[10]           | Metrobici            | <!----> | <!----> | 2014             | <!----> |\n",
       "| 4 | Argentina | Rosario               | Mi Bici Tu Bici[11]  | <!----> | <!----> | 2 December 2015  | <!----> |\n",
       "| 5 | Argentina | San Lorenzo, Santa Fe | Biciudad             | Biciudad          | <!----> | 27 November 2016 | <!----> |\n",
       "| 6 | Australia | Melbourne[12]         | Melbourne Bike Share | PBSC &amp; 8D         | Motivate                     | June 2010        | 30 November 2019[13] |\n",
       "\n"
      ],
      "text/plain": [
       "  Country   City / Region         Name                 System           \n",
       "1 Albania   Tirana[5]             Ecovolis                              \n",
       "2 Argentina Buenos Aires[6][7]    Ecobici              Serttel Brasil[8]\n",
       "3 Argentina Mendoza[10]           Metrobici                             \n",
       "4 Argentina Rosario               Mi Bici Tu Bici[11]                   \n",
       "5 Argentina San Lorenzo, Santa Fe Biciudad             Biciudad         \n",
       "6 Australia Melbourne[12]         Melbourne Bike Share PBSC & 8D        \n",
       "  Operator                     Launched         Discontinued        \n",
       "1                              March 2011       Discontinued        \n",
       "2 Bike In Baires Consortium[9] 2010                                 \n",
       "3                              2014                                 \n",
       "4                              2 December 2015                      \n",
       "5                              27 November 2016                     \n",
       "6 Motivate                     June 2010        30 November 2019[13]"
      ]
     },
     "metadata": {},
     "output_type": "display_data"
    }
   ],
   "source": [
    "# Convert the bike-sharing system table into a dataframe\n",
    "bike_df <- html_table(bike_table)\n",
    "head(bike_df)"
   ]
  },
  {
   "cell_type": "markdown",
   "metadata": {},
   "source": [
    "Summarize the bike sharing system data frame\n"
   ]
  },
  {
   "cell_type": "code",
   "execution_count": 16,
   "metadata": {
    "tags": []
   },
   "outputs": [
    {
     "name": "stdout",
     "output_type": "stream",
     "text": [
      "'data.frame':\t823 obs. of  7 variables:\n",
      " $ Country      : chr  \"Albania\" \"Argentina\" \"Argentina\" \"Argentina\" ...\n",
      " $ City / Region: chr  \"Tirana[5]\" \"Buenos Aires[6][7]\" \"Mendoza[10]\" \"Rosario\" ...\n",
      " $ Name         : chr  \"Ecovolis\" \"Ecobici\" \"Metrobici\" \"Mi Bici Tu Bici[11]\" ...\n",
      " $ System       : chr  \"\" \"Serttel Brasil[8]\" \"\" \"\" ...\n",
      " $ Operator     : chr  \"\" \"Bike In Baires Consortium[9]\" \"\" \"\" ...\n",
      " $ Launched     : chr  \"March 2011\" \"2010\" \"2014\" \"2 December 2015\" ...\n",
      " $ Discontinued : chr  \"Discontinued\" \"\" \"\" \"\" ...\n"
     ]
    }
   ],
   "source": [
    "# Summarize the dataframe\n",
    "str(bike_df)"
   ]
  },
  {
   "cell_type": "markdown",
   "metadata": {},
   "source": [
    "Export the data frame as a csv file called `raw_bike_sharing_systems.csv`\n"
   ]
  },
  {
   "cell_type": "code",
   "execution_count": 17,
   "metadata": {
    "tags": []
   },
   "outputs": [],
   "source": [
    "# Export the dataframe into a csv file\n",
    "bike_df_csv <- write.csv(bike_df, \"bike_df.csv\", row.names = FALSE)"
   ]
  },
  {
   "cell_type": "markdown",
   "metadata": {},
   "source": [
    "## Author\n",
    "\n",
    "Edemeka Usoroh\n"
   ]
  },
  {
   "cell_type": "code",
   "execution_count": null,
   "metadata": {},
   "outputs": [],
   "source": []
  }
 ],
 "metadata": {
  "kernelspec": {
   "display_name": "R",
   "language": "R",
   "name": "conda-env-r-r"
  },
  "language_info": {
   "codemirror_mode": "r",
   "file_extension": ".r",
   "mimetype": "text/x-r-source",
   "name": "R",
   "pygments_lexer": "r",
   "version": "3.5.1"
  }
 },
 "nbformat": 4,
 "nbformat_minor": 4
}
